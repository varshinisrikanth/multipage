{
  "nbformat": 4,
  "nbformat_minor": 0,
  "metadata": {
    "colab": {
      "provenance": []
    },
    "kernelspec": {
      "name": "python3",
      "display_name": "Python 3"
    },
    "language_info": {
      "name": "python"
    }
  },
  "cells": [
    {
      "cell_type": "code",
      "source": [
        "import requests\n",
        "from bs4 import BeautifulSoup\n",
        "import csv\n",
        "\n",
        "# Initialize the URL pattern for the Wikipedia pages\n",
        "base_url = \"https://en.wikipedia.org/wiki/World_Tourism_rankings\"\n",
        "\n",
        "# Create a CSV file to store the scraped data\n",
        "csv_file = open(\"most_visited_places.csv\", \"w\", newline=\"\", encoding=\"utf-8\")\n",
        "csv_writer = csv.writer(csv_file)\n",
        "csv_writer.writerow([\"Rank\", \"Place Name\", \"Location\", \"Visitors Per Year\"])\n",
        "\n",
        "# Send a request to the main Wikipedia page\n",
        "response = requests.get(base_url)\n",
        "response.raise_for_status()\n",
        "\n",
        "soup = BeautifulSoup(response.content, \"html.parser\")\n",
        "\n",
        "# Find all tables containing most visited places data\n",
        "tables = soup.find_all(\"table\", class_=\"wikitable\")\n",
        "\n",
        "# Loop through each table to extract data\n",
        "for table in tables:\n",
        "    rows = table.find_all(\"tr\")[1:]  # Skip the header row\n",
        "    for row in rows:\n",
        "        columns = row.find_all(\"td\")\n",
        "        if len(columns) >= 4:\n",
        "            rank = columns[0].text.strip()\n",
        "            place_name = columns[1].text.strip()\n",
        "            location = columns[2].text.strip()\n",
        "            visitors_per_year = columns[3].text.strip()\n",
        "            csv_writer.writerow([rank, place_name, location, visitors_per_year])\n",
        "\n",
        "# Close the CSV file\n",
        "csv_file.close()"
      ],
      "metadata": {
        "id": "QyqwErvAJOnT"
      },
      "execution_count": 11,
      "outputs": []
    },
    {
      "cell_type": "code",
      "source": [
        "from google.colab import files\n",
        "files.download('most_visited_places.csv')"
      ],
      "metadata": {
        "colab": {
          "base_uri": "https://localhost:8080/",
          "height": 17
        },
        "id": "O7sKyNq7LSeL",
        "outputId": "e415dd9f-d66c-404d-d2cb-ec7456b5a11c"
      },
      "execution_count": 12,
      "outputs": [
        {
          "output_type": "display_data",
          "data": {
            "text/plain": [
              "<IPython.core.display.Javascript object>"
            ],
            "application/javascript": [
              "\n",
              "    async function download(id, filename, size) {\n",
              "      if (!google.colab.kernel.accessAllowed) {\n",
              "        return;\n",
              "      }\n",
              "      const div = document.createElement('div');\n",
              "      const label = document.createElement('label');\n",
              "      label.textContent = `Downloading \"${filename}\": `;\n",
              "      div.appendChild(label);\n",
              "      const progress = document.createElement('progress');\n",
              "      progress.max = size;\n",
              "      div.appendChild(progress);\n",
              "      document.body.appendChild(div);\n",
              "\n",
              "      const buffers = [];\n",
              "      let downloaded = 0;\n",
              "\n",
              "      const channel = await google.colab.kernel.comms.open(id);\n",
              "      // Send a message to notify the kernel that we're ready.\n",
              "      channel.send({})\n",
              "\n",
              "      for await (const message of channel.messages) {\n",
              "        // Send a message to notify the kernel that we're ready.\n",
              "        channel.send({})\n",
              "        if (message.buffers) {\n",
              "          for (const buffer of message.buffers) {\n",
              "            buffers.push(buffer);\n",
              "            downloaded += buffer.byteLength;\n",
              "            progress.value = downloaded;\n",
              "          }\n",
              "        }\n",
              "      }\n",
              "      const blob = new Blob(buffers, {type: 'application/binary'});\n",
              "      const a = document.createElement('a');\n",
              "      a.href = window.URL.createObjectURL(blob);\n",
              "      a.download = filename;\n",
              "      div.appendChild(a);\n",
              "      a.click();\n",
              "      div.remove();\n",
              "    }\n",
              "  "
            ]
          },
          "metadata": {}
        },
        {
          "output_type": "display_data",
          "data": {
            "text/plain": [
              "<IPython.core.display.Javascript object>"
            ],
            "application/javascript": [
              "download(\"download_5c61c339-1f5b-488f-a4b7-99110de6010c\", \"most_visited_places.csv\", 2825)"
            ]
          },
          "metadata": {}
        }
      ]
    }
  ]
}